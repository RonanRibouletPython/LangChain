{
 "cells": [
  {
   "cell_type": "code",
   "execution_count": null,
   "metadata": {},
   "outputs": [],
   "source": [
    "# Data ingestion experiments"
   ]
  },
  {
   "cell_type": "code",
   "execution_count": null,
   "metadata": {},
   "outputs": [],
   "source": [
    "from langchain_community.document_loaders import TextLoader"
   ]
  },
  {
   "cell_type": "code",
   "execution_count": null,
   "metadata": {},
   "outputs": [],
   "source": [
    "loader = TextLoader(\"MLK_speech.txt\")"
   ]
  },
  {
   "cell_type": "code",
   "execution_count": null,
   "metadata": {},
   "outputs": [],
   "source": [
    "text_document = loader.load()"
   ]
  },
  {
   "cell_type": "code",
   "execution_count": null,
   "metadata": {},
   "outputs": [],
   "source": [
    "text_document"
   ]
  },
  {
   "cell_type": "code",
   "execution_count": null,
   "metadata": {},
   "outputs": [],
   "source": [
    "# Use web based loader\n",
    "from langchain_community.document_loaders import WebBaseLoader\n",
    "# import beatifoul soup to manager the page content\n",
    "import bs4"
   ]
  },
  {
   "cell_type": "code",
   "execution_count": null,
   "metadata": {},
   "outputs": [],
   "source": [
    "# Use the WebBaseLOader to load content from the webpage (hmtl)\n",
    "# Use bs4 to navigate in the content of the html\n",
    "loader = WebBaseLoader(web_paths=(\"https://en.wikipedia.org/wiki/Taylor_Swift\",),\n",
    "                        bs_kwargs=dict(parse_only=bs4.SoupStrainer(\n",
    "                            class_=(\"mw-body-content\")\n",
    "                )))"
   ]
  },
  {
   "cell_type": "code",
   "execution_count": null,
   "metadata": {},
   "outputs": [],
   "source": [
    "text_document = loader.load()"
   ]
  },
  {
   "cell_type": "code",
   "execution_count": null,
   "metadata": {},
   "outputs": [],
   "source": [
    "text_document"
   ]
  },
  {
   "cell_type": "code",
   "execution_count": null,
   "metadata": {},
   "outputs": [],
   "source": [
    "# Read from a PDF document\n",
    "from langchain_community.document_loaders import PyPDFLoader"
   ]
  },
  {
   "cell_type": "code",
   "execution_count": null,
   "metadata": {},
   "outputs": [],
   "source": [
    "loader = PyPDFLoader(\"attention.pdf\")"
   ]
  },
  {
   "cell_type": "code",
   "execution_count": null,
   "metadata": {},
   "outputs": [],
   "source": [
    "text_document = loader.load()"
   ]
  },
  {
   "cell_type": "code",
   "execution_count": null,
   "metadata": {},
   "outputs": [],
   "source": [
    "text_document"
   ]
  },
  {
   "cell_type": "code",
   "execution_count": null,
   "metadata": {},
   "outputs": [],
   "source": [
    "# Data transformation experiments"
   ]
  },
  {
   "cell_type": "code",
   "execution_count": null,
   "metadata": {},
   "outputs": [],
   "source": [
    "from langchain.text_splitter import RecursiveCharacterTextSplitter"
   ]
  },
  {
   "cell_type": "code",
   "execution_count": null,
   "metadata": {},
   "outputs": [],
   "source": [
    "text_splitter = RecursiveCharacterTextSplitter(chunk_size=1000, chunk_overlap=200)"
   ]
  },
  {
   "cell_type": "code",
   "execution_count": null,
   "metadata": {},
   "outputs": [],
   "source": [
    "splitted_text = text_splitter.split_documents(documents=text_document)"
   ]
  },
  {
   "cell_type": "code",
   "execution_count": null,
   "metadata": {},
   "outputs": [],
   "source": [
    "splitted_text[:1]"
   ]
  },
  {
   "cell_type": "code",
   "execution_count": null,
   "metadata": {},
   "outputs": [],
   "source": [
    "# Convert the data into vectors"
   ]
  },
  {
   "cell_type": "code",
   "execution_count": null,
   "metadata": {},
   "outputs": [],
   "source": [
    "%pip install llama-index-embeddings-langchain"
   ]
  },
  {
   "cell_type": "code",
   "execution_count": null,
   "metadata": {},
   "outputs": [],
   "source": [
    "%pip install sentence-transformers"
   ]
  },
  {
   "cell_type": "code",
   "execution_count": null,
   "metadata": {},
   "outputs": [],
   "source": [
    "# Import the Llama2 embeddings\n",
    "from langchain.embeddings import HuggingFaceEmbeddings\n",
    "from llama_index.embeddings.langchain import LangchainEmbedding"
   ]
  },
  {
   "cell_type": "code",
   "execution_count": 65,
   "metadata": {},
   "outputs": [
    {
     "name": "stderr",
     "output_type": "stream",
     "text": [
      "c:\\Users\\Ronan\\Documents\\ML\\LangChainProjects\\LangChain\\venv\\lib\\site-packages\\huggingface_hub\\file_download.py:1132: FutureWarning: `resume_download` is deprecated and will be removed in version 1.0.0. Downloads always resume when possible. If you want to force a new download, use `force_download=True`.\n",
      "  warnings.warn(\n"
     ]
    }
   ],
   "source": [
    "# Load the embedding from HF\n",
    "langchain_embed_model = HuggingFaceEmbeddings(\n",
    "    model_name=\"sentence-transformers/all-mpnet-base-v2\"\n",
    ")\n"
   ]
  },
  {
   "cell_type": "code",
   "execution_count": 52,
   "metadata": {},
   "outputs": [],
   "source": [
    "# Use the embed model\n",
    "embed_model = LangchainEmbedding(langchain_embed_model)\n",
    "embeddings = embed_model.get_text_embedding(\n",
    "    \"Taylor Swift is the best artist in the world\"\n",
    ")"
   ]
  },
  {
   "cell_type": "code",
   "execution_count": null,
   "metadata": {},
   "outputs": [],
   "source": [
    "embeddings"
   ]
  },
  {
   "cell_type": "code",
   "execution_count": 67,
   "metadata": {},
   "outputs": [],
   "source": [
    "# Use the Chroma vector stores\n",
    "from langchain_community.vectorstores import Chroma"
   ]
  },
  {
   "cell_type": "code",
   "execution_count": 66,
   "metadata": {},
   "outputs": [],
   "source": [
    "db = Chroma.from_documents(splitted_text[:10], langchain_embed_model)"
   ]
  },
  {
   "cell_type": "code",
   "execution_count": 68,
   "metadata": {},
   "outputs": [],
   "source": [
    "# We are going to use the Vector db"
   ]
  },
  {
   "cell_type": "code",
   "execution_count": 69,
   "metadata": {},
   "outputs": [],
   "source": [
    "query = \"When is born Taylor Swift?\""
   ]
  },
  {
   "cell_type": "code",
   "execution_count": 72,
   "metadata": {},
   "outputs": [],
   "source": [
    "# Parts of the data that is similar to the query\n",
    "result = db.similarity_search(query)"
   ]
  },
  {
   "cell_type": "code",
   "execution_count": 73,
   "metadata": {},
   "outputs": [
    {
     "data": {
      "text/plain": [
       "[Document(page_content=\"Life and career\\nEarly life\\nTaylor Alison Swift was born on December 13, 1989, in West Reading, Pennsylvania.[1] She is named after the singer-songwriter James Taylor.[2] Her father, Scott Kingsley Swift, is a former stockbroker for Merrill Lynch; her mother, Andrea Gardner Swift (née Finlay), worked for a time as a mutual fund marketing executive.[3] Her younger brother, Austin, is an actor.[4] Swift's maternal grandmother, Marjorie Finlay (née Moehlenkamp), was an opera singer,[5] whose singing in church became one of Swift's earliest memories of music that shaped her career.[3] Swift's mother is of Scottish and German descent, and her father is of Scottish and English descent with distant Italian ancestry.[6][7]\", metadata={'source': 'https://en.wikipedia.org/wiki/Taylor_Swift'}),\n",
       " Document(page_content='American singer-songwriter (born 1989)\\nFor the album, see Taylor Swift (album).\\n\\n\\nTaylor SwiftSwift in 2023BornTaylor Alison Swift (1989-12-13) December 13, 1989 (age\\xa034)West Reading, Pennsylvania, U.S.Occupations\\nSinger-songwriter\\nmusician\\nproducer\\ndirector\\nbusinesswoman\\nactress\\nYears\\xa0active2003–presentOrganizationTaylor Swift ProductionsWorksAlbumssinglessongsvideosperformancesRelatives\\nAustin Swift (brother)\\nMarjorie Finlay (grandmother)\\nAwardsFull listMusical careerOriginNashville, Tennessee, USGenres\\nPop\\ncountry\\nfolk\\nrock\\nalternative\\nInstruments\\nVocals\\nguitar\\npiano\\nbanjo\\nukulele\\nLabels\\nRepublic\\nBig Machine', metadata={'source': 'https://en.wikipedia.org/wiki/Taylor_Swift'}),\n",
       " Document(page_content='Musical artistWebsitewww.taylorswift.com Signature\\nTaylor Alison Swift (born December 13, 1989) is an American singer-songwriter. A subject of widespread public interest with a vast fanbase, she has influenced the music industry, popular culture, and politics through her songwriting, artistry, entrepreneurship, and advocacy.', metadata={'source': 'https://en.wikipedia.org/wiki/Taylor_Swift'}),\n",
       " Document(page_content=\"Swift spent her early years on a Christmas tree farm in Pennsylvania that her father had purchased from one of his clients,[8] and she spent her summers at her family's vacation home in Stone Harbor, New Jersey, where she occasionally performed acoustic songs at a local coffee shop.[9] She is a Christian[10] and attended preschool and kindergarten at a Montessori school run by the Bernardine Sisters of St. Francis before transferring to the Wyndcroft School.[11][12] When her family moved to Wyomissing, Pennsylvania, she attended Wyomissing Area Junior/Senior High School.[13][14] As a child, she performed in Berks Youth Theatre Academy productions[15] and traveled regularly to New York City for vocal and acting lessons.[16] Her early love for country music was influenced by Shania Twain, Patsy Cline, LeAnn Rimes, and the Dixie Chicks,[12] and she spent weekends performing at local festivals and events.[17][18] After watching a documentary about Faith Hill, she became determined to\", metadata={'source': 'https://en.wikipedia.org/wiki/Taylor_Swift'})]"
      ]
     },
     "execution_count": 73,
     "metadata": {},
     "output_type": "execute_result"
    }
   ],
   "source": [
    "result"
   ]
  },
  {
   "cell_type": "code",
   "execution_count": 74,
   "metadata": {},
   "outputs": [],
   "source": [
    "# Use of the FAISS db"
   ]
  },
  {
   "cell_type": "code",
   "execution_count": 75,
   "metadata": {},
   "outputs": [],
   "source": [
    "from langchain_community.vectorstores import FAISS"
   ]
  },
  {
   "cell_type": "code",
   "execution_count": 76,
   "metadata": {},
   "outputs": [],
   "source": [
    "db = FAISS.from_documents(splitted_text[:10], langchain_embed_model)"
   ]
  },
  {
   "cell_type": "code",
   "execution_count": 77,
   "metadata": {},
   "outputs": [],
   "source": [
    "result = db.similarity_search(query)"
   ]
  },
  {
   "cell_type": "code",
   "execution_count": 78,
   "metadata": {},
   "outputs": [
    {
     "data": {
      "text/plain": [
       "[Document(page_content=\"Life and career\\nEarly life\\nTaylor Alison Swift was born on December 13, 1989, in West Reading, Pennsylvania.[1] She is named after the singer-songwriter James Taylor.[2] Her father, Scott Kingsley Swift, is a former stockbroker for Merrill Lynch; her mother, Andrea Gardner Swift (née Finlay), worked for a time as a mutual fund marketing executive.[3] Her younger brother, Austin, is an actor.[4] Swift's maternal grandmother, Marjorie Finlay (née Moehlenkamp), was an opera singer,[5] whose singing in church became one of Swift's earliest memories of music that shaped her career.[3] Swift's mother is of Scottish and German descent, and her father is of Scottish and English descent with distant Italian ancestry.[6][7]\", metadata={'source': 'https://en.wikipedia.org/wiki/Taylor_Swift'}),\n",
       " Document(page_content='American singer-songwriter (born 1989)\\nFor the album, see Taylor Swift (album).\\n\\n\\nTaylor SwiftSwift in 2023BornTaylor Alison Swift (1989-12-13) December 13, 1989 (age\\xa034)West Reading, Pennsylvania, U.S.Occupations\\nSinger-songwriter\\nmusician\\nproducer\\ndirector\\nbusinesswoman\\nactress\\nYears\\xa0active2003–presentOrganizationTaylor Swift ProductionsWorksAlbumssinglessongsvideosperformancesRelatives\\nAustin Swift (brother)\\nMarjorie Finlay (grandmother)\\nAwardsFull listMusical careerOriginNashville, Tennessee, USGenres\\nPop\\ncountry\\nfolk\\nrock\\nalternative\\nInstruments\\nVocals\\nguitar\\npiano\\nbanjo\\nukulele\\nLabels\\nRepublic\\nBig Machine', metadata={'source': 'https://en.wikipedia.org/wiki/Taylor_Swift'}),\n",
       " Document(page_content='Musical artistWebsitewww.taylorswift.com Signature\\nTaylor Alison Swift (born December 13, 1989) is an American singer-songwriter. A subject of widespread public interest with a vast fanbase, she has influenced the music industry, popular culture, and politics through her songwriting, artistry, entrepreneurship, and advocacy.', metadata={'source': 'https://en.wikipedia.org/wiki/Taylor_Swift'}),\n",
       " Document(page_content=\"Swift spent her early years on a Christmas tree farm in Pennsylvania that her father had purchased from one of his clients,[8] and she spent her summers at her family's vacation home in Stone Harbor, New Jersey, where she occasionally performed acoustic songs at a local coffee shop.[9] She is a Christian[10] and attended preschool and kindergarten at a Montessori school run by the Bernardine Sisters of St. Francis before transferring to the Wyndcroft School.[11][12] When her family moved to Wyomissing, Pennsylvania, she attended Wyomissing Area Junior/Senior High School.[13][14] As a child, she performed in Berks Youth Theatre Academy productions[15] and traveled regularly to New York City for vocal and acting lessons.[16] Her early love for country music was influenced by Shania Twain, Patsy Cline, LeAnn Rimes, and the Dixie Chicks,[12] and she spent weekends performing at local festivals and events.[17][18] After watching a documentary about Faith Hill, she became determined to\", metadata={'source': 'https://en.wikipedia.org/wiki/Taylor_Swift'})]"
      ]
     },
     "execution_count": 78,
     "metadata": {},
     "output_type": "execute_result"
    }
   ],
   "source": [
    "result"
   ]
  }
 ],
 "metadata": {
  "kernelspec": {
   "display_name": "Python 3",
   "language": "python",
   "name": "python3"
  },
  "language_info": {
   "codemirror_mode": {
    "name": "ipython",
    "version": 3
   },
   "file_extension": ".py",
   "mimetype": "text/x-python",
   "name": "python",
   "nbconvert_exporter": "python",
   "pygments_lexer": "ipython3",
   "version": "3.10.14"
  }
 },
 "nbformat": 4,
 "nbformat_minor": 2
}
